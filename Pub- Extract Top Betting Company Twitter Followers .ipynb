{
 "cells": [
  {
   "cell_type": "markdown",
   "id": "6890dfe1",
   "metadata": {},
   "source": [
    "### Extract Twitter Followers for Top Betting companies in Nigeria "
   ]
  },
  {
   "cell_type": "markdown",
   "id": "9e63f831",
   "metadata": {},
   "source": [
    "The following script Uses the Tweepy API to automatically extract the number of twitter followers each sports betting company has on a twitter."
   ]
  },
  {
   "cell_type": "code",
   "execution_count": 3,
   "id": "8d8a8e5b",
   "metadata": {},
   "outputs": [],
   "source": [
    "import pandas as pd\n",
    "import numpy as np\n",
    "import requests\n",
    "import tweepy\n",
    "import time\n",
    "import datetime\n",
    "import os\n",
    "import json"
   ]
  },
  {
   "cell_type": "code",
   "execution_count": 4,
   "id": "f020df89",
   "metadata": {},
   "outputs": [],
   "source": [
    "consumer_key = ''\n",
    "consumer_secret = ''\n",
    "access_token = ''\n",
    "access_secret = ''\n",
    "\n",
    "auth = tweepy.OAuthHandler(consumer_key, consumer_secret)\n",
    "auth.set_access_token(access_token, access_secret)\n",
    "\n",
    "api = tweepy.API(auth,wait_on_rate_limit=True)\n",
    "\n",
    "\n",
    "companies = ['SportyBet','BetKingNG', 'BetwayNigeria','betBonanza','BetBiga','merrybetsports','Bet9jaOfficial','NairaBET','1960betng']\n",
    "\n",
    "columns = ['Company','Followers']\n",
    "comp_data = []\n",
    "\n",
    "for company in companies:\n",
    "    try:\n",
    "        user = api.get_user(screen_name = company)\n",
    "        comp_name = user.screen_name\n",
    "        #print(comp_name)\n",
    "        comp_followers = user.followers_count\n",
    "        #print(comp_followers)\n",
    "        comp_data.append([comp_name,comp_followers])\n",
    "        \n",
    "    except Exception as e:\n",
    "        print('error occured in {}'.format(company))\n",
    "        \n",
    "        \n",
    "df_comp = pd.DataFrame(comp_data,columns=columns)\n",
    "\n",
    "from datetime import date\n",
    "\n",
    "today = date.today()\n",
    "\n",
    "df_comp.to_csv('report-{}.csv'.format(today))\n"
   ]
  },
  {
   "cell_type": "code",
   "execution_count": null,
   "id": "714d91d2",
   "metadata": {},
   "outputs": [],
   "source": []
  }
 ],
 "metadata": {
  "kernelspec": {
   "display_name": "Python 3 (ipykernel)",
   "language": "python",
   "name": "python3"
  },
  "language_info": {
   "codemirror_mode": {
    "name": "ipython",
    "version": 3
   },
   "file_extension": ".py",
   "mimetype": "text/x-python",
   "name": "python",
   "nbconvert_exporter": "python",
   "pygments_lexer": "ipython3",
   "version": "3.9.13"
  }
 },
 "nbformat": 4,
 "nbformat_minor": 5
}
